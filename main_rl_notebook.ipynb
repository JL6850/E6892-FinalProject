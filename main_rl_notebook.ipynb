{
 "cells": [
  {
   "cell_type": "code",
   "execution_count": 1,
   "id": "5335d37b-dd24-4da8-95f1-6619c8ce3149",
   "metadata": {},
   "outputs": [],
   "source": [
    "# Chinese Chess (Xiangqi) with AlphaZero\n",
    "\n",
    "# This notebook demonstrates how to use the AlphaZero model to play Chinese Chess."
   ]
  },
  {
   "cell_type": "code",
   "execution_count": 4,
   "id": "0d98a8e5-8b12-4f69-84d9-3995516f20c3",
   "metadata": {},
   "outputs": [],
   "source": [
    "# Import necessary modules\n",
    "import numpy as np\n",
    "import torch"
   ]
  },
  {
   "cell_type": "code",
   "execution_count": 5,
   "id": "8ceab6c6-660e-4dd5-94b7-7a15e590b32c",
   "metadata": {},
   "outputs": [],
   "source": [
    "# Import our custom modules\n",
    "from aznet import load_model, AZNet\n",
    "from board import init_board, print_board, board_to_state, state_to_board, make_move\n",
    "from moves import move_to_uci, uci_to_move, get_all_moves\n",
    "from alphazero import AlphaZero\n",
    "from utils import play_game, play_interactive"
   ]
  },
  {
   "cell_type": "code",
   "execution_count": 16,
   "id": "dd06a5df-802c-4150-8a11-e782ed7fdfc5",
   "metadata": {},
   "outputs": [],
   "source": [
    "# Because of the limited computational power we have trained our model with A100's in Google Collab\n",
    "# The main_notebook file consists of training results and self-play game resuls\n",
    "# This notebook is polished version of the notebook that has been used for training"
   ]
  },
  {
   "cell_type": "markdown",
   "id": "9bd0c100-86ed-46d8-975a-17563aa6d975",
   "metadata": {},
   "source": [
    "# Load the AlphaZero Model\n",
    "#### First, let's load the pre-trained model"
   ]
  },
  {
   "cell_type": "code",
   "execution_count": 10,
   "id": "fa09ddf7-7213-403a-9d66-359b37d920c2",
   "metadata": {},
   "outputs": [
    {
     "name": "stdout",
     "output_type": "stream",
     "text": [
      "Loading AlphaZero model...\n"
     ]
    },
    {
     "name": "stderr",
     "output_type": "stream",
     "text": [
      "C:\\Users\\berky\\rl_project_new\\aznet.py:79: FutureWarning: You are using `torch.load` with `weights_only=False` (the current default value), which uses the default pickle module implicitly. It is possible to construct malicious pickle data which will execute arbitrary code during unpickling (See https://github.com/pytorch/pytorch/blob/main/SECURITY.md#untrusted-models for more details). In a future release, the default value for `weights_only` will be flipped to `True`. This limits the functions that could be executed during unpickling. Arbitrary objects will no longer be allowed to be loaded via this mode unless they are explicitly allowlisted by the user via `torch.serialization.add_safe_globals`. We recommend you start setting `weights_only=True` for any use case where you don't have full control of the loaded file. Please open an issue on GitHub for any issues related to this experimental feature.\n",
      "  model.load_state_dict(torch.load(model_path))\n"
     ]
    }
   ],
   "source": [
    "# Load the model\n",
    "print(\"Loading AlphaZero model...\")\n",
    "model = load_model(\"aznet_chinese_chess (1).pth\")"
   ]
  },
  {
   "cell_type": "code",
   "execution_count": 12,
   "id": "ad07e6fa-aab5-49ca-ba83-a63069e094c2",
   "metadata": {},
   "outputs": [],
   "source": [
    "# Create the AlphaZero agent\n",
    "alpha_zero = AlphaZero(model, num_simulations=100)"
   ]
  },
  {
   "cell_type": "markdown",
   "id": "28106f17-aee8-42f9-bf6d-dea10457a1c6",
   "metadata": {},
   "source": [
    "# Test Board Representation\n",
    "### Let's test the board representation functions."
   ]
  },
  {
   "cell_type": "code",
   "execution_count": 25,
   "id": "0e30524d-8199-4512-897f-116a4691797a",
   "metadata": {},
   "outputs": [
    {
     "name": "stdout",
     "output_type": "stream",
     "text": [
      "    a   b   c   d   e   f   g   h   i\n",
      "  ┌───┬───┬───┬───┬───┬───┬───┬───┬───┐\n",
      "10 │ r │ n │ b │ a │ k │ a │ b │ n │ r │\n",
      "  ├───┼───┼───┼───┼───┼───┼───┼───┼───┤\n",
      "9 │ . │ . │ . │ . │ . │ . │ . │ . │ . │\n",
      "  ├───┼───┼───┼───┼───┼───┼───┼───┼───┤\n",
      "8 │ . │ c │ . │ . │ . │ c │ . │ . │ . │\n",
      "  ├───┼───┼───┼───┼───┼───┼───┼───┼───┤\n",
      "7 │ p │ . │ p │ . │ p │ . │ p │ . │ p │\n",
      "  ├───┼───┼───┼───┼───┼───┼───┼───┼───┤\n",
      "6 │ . │ . │ . │ . │ . │ . │ . │ . │ . │\n",
      "  ├───┼───┼───┼───┼───┼───┼───┼───┼───┤\n",
      "5 │ . │ . │ . │ . │ . │ . │ . │ . │ . │\n",
      "  ├───┼───┼───┼───┼───┼───┼───┼───┼───┤\n",
      "4 │ P │ . │ P │ . │ P │ . │ P │ . │ P │\n",
      "  ├───┼───┼───┼───┼───┼───┼───┼───┼───┤\n",
      "3 │ . │ C │ . │ . │ . │ C │ . │ . │ . │\n",
      "  ├───┼───┼───┼───┼───┼───┼───┼───┼───┤\n",
      "2 │ . │ . │ . │ . │ . │ . │ . │ . │ . │\n",
      "  ├───┼───┼───┼───┼───┼───┼───┼───┼───┤\n",
      "1 │ R │ N │ B │ A │ K │ A │ B │ N │ R │\n",
      "  └───┴───┴───┴───┴───┴───┴───┴───┴───┘\n",
      "Board representation test passed!\n"
     ]
    }
   ],
   "source": [
    "# Initialize the board\n",
    "board = init_board()\n",
    "\n",
    "# Print the board\n",
    "print_board(board)\n",
    "\n",
    "# Convert to state and back\n",
    "state = board_to_state(board)\n",
    "board_reconstructed = state_to_board(state)\n",
    "\n",
    "# Verify reconstruction is correct\n",
    "assert board == board_reconstructed, \"Board reconstruction failed\"\n",
    "print(\"Board representation test passed!\")\n"
   ]
  },
  {
   "cell_type": "markdown",
   "id": "e78f06a2-ee07-45bf-b51c-7c3a4126d3e4",
   "metadata": {},
   "source": [
    "# Play Options\n",
    "\n",
    "### Now we can choose to watch the AI play against itself or play against it"
   ]
  },
  {
   "cell_type": "code",
   "execution_count": 28,
   "id": "fe52c06e-1936-4873-9779-39b3b20a109a",
   "metadata": {},
   "outputs": [],
   "source": [
    "def main():\n",
    "    choice = input(\"\"\"\n",
    "Choose an option:\n",
    "1. Watch AlphaZero play against itself\n",
    "2. Play against AlphaZero (you as Black)\n",
    "Enter your choice (1-2): \"\"\")\n",
    "    \n",
    "    if choice == '1':\n",
    "        num_moves = int(input(\"Enter number of moves to play (default 20): \") or 20)\n",
    "        play_game(model, alpha_zero, num_moves)\n",
    "    elif choice == '2':\n",
    "        play_interactive(model, alpha_zero)\n",
    "    else:\n",
    "        print(\"Invalid choice.\")"
   ]
  },
  {
   "cell_type": "markdown",
   "id": "ce152269-8d59-442a-b7d5-22f5fda57d00",
   "metadata": {},
   "source": [
    "# Examine the Neural Network\n",
    "### Let's examine the structure of the neural network"
   ]
  },
  {
   "cell_type": "code",
   "execution_count": 31,
   "id": "12d0b15e-e0cf-4ecb-b272-7463f55ec2cd",
   "metadata": {},
   "outputs": [
    {
     "name": "stdout",
     "output_type": "stream",
     "text": [
      "Neural Network Architecture:\n",
      "AZNet(\n",
      "  (conv1): Conv2d(15, 128, kernel_size=(3, 3), stride=(1, 1), padding=(1, 1))\n",
      "  (res_blocks): Sequential(\n",
      "    (0): Sequential(\n",
      "      (0): Conv2d(128, 128, kernel_size=(3, 3), stride=(1, 1), padding=(1, 1))\n",
      "      (1): BatchNorm2d(128, eps=1e-05, momentum=0.1, affine=True, track_running_stats=True)\n",
      "      (2): ReLU()\n",
      "      (3): Conv2d(128, 128, kernel_size=(3, 3), stride=(1, 1), padding=(1, 1))\n",
      "      (4): BatchNorm2d(128, eps=1e-05, momentum=0.1, affine=True, track_running_stats=True)\n",
      "    )\n",
      "    (1): Sequential(\n",
      "      (0): Conv2d(128, 128, kernel_size=(3, 3), stride=(1, 1), padding=(1, 1))\n",
      "      (1): BatchNorm2d(128, eps=1e-05, momentum=0.1, affine=True, track_running_stats=True)\n",
      "      (2): ReLU()\n",
      "      (3): Conv2d(128, 128, kernel_size=(3, 3), stride=(1, 1), padding=(1, 1))\n",
      "      (4): BatchNorm2d(128, eps=1e-05, momentum=0.1, affine=True, track_running_stats=True)\n",
      "    )\n",
      "    (2): Sequential(\n",
      "      (0): Conv2d(128, 128, kernel_size=(3, 3), stride=(1, 1), padding=(1, 1))\n",
      "      (1): BatchNorm2d(128, eps=1e-05, momentum=0.1, affine=True, track_running_stats=True)\n",
      "      (2): ReLU()\n",
      "      (3): Conv2d(128, 128, kernel_size=(3, 3), stride=(1, 1), padding=(1, 1))\n",
      "      (4): BatchNorm2d(128, eps=1e-05, momentum=0.1, affine=True, track_running_stats=True)\n",
      "    )\n",
      "    (3): Sequential(\n",
      "      (0): Conv2d(128, 128, kernel_size=(3, 3), stride=(1, 1), padding=(1, 1))\n",
      "      (1): BatchNorm2d(128, eps=1e-05, momentum=0.1, affine=True, track_running_stats=True)\n",
      "      (2): ReLU()\n",
      "      (3): Conv2d(128, 128, kernel_size=(3, 3), stride=(1, 1), padding=(1, 1))\n",
      "      (4): BatchNorm2d(128, eps=1e-05, momentum=0.1, affine=True, track_running_stats=True)\n",
      "    )\n",
      "    (4): Sequential(\n",
      "      (0): Conv2d(128, 128, kernel_size=(3, 3), stride=(1, 1), padding=(1, 1))\n",
      "      (1): BatchNorm2d(128, eps=1e-05, momentum=0.1, affine=True, track_running_stats=True)\n",
      "      (2): ReLU()\n",
      "      (3): Conv2d(128, 128, kernel_size=(3, 3), stride=(1, 1), padding=(1, 1))\n",
      "      (4): BatchNorm2d(128, eps=1e-05, momentum=0.1, affine=True, track_running_stats=True)\n",
      "    )\n",
      "  )\n",
      "  (p_conv): Conv2d(128, 32, kernel_size=(1, 1), stride=(1, 1))\n",
      "  (p_fc): Linear(in_features=2880, out_features=8100, bias=True)\n",
      "  (v_conv): Conv2d(128, 32, kernel_size=(1, 1), stride=(1, 1))\n",
      "  (v_fc1): Linear(in_features=2880, out_features=128, bias=True)\n",
      "  (v_fc2): Linear(in_features=128, out_features=1, bias=True)\n",
      ")\n",
      "Total parameters: 25,209,061\n"
     ]
    }
   ],
   "source": [
    "# Print model summary\n",
    "print(\"Neural Network Architecture:\")\n",
    "print(model)\n",
    "\n",
    "# Count parameters\n",
    "total_params = sum(p.numel() for p in model.parameters())\n",
    "print(f\"Total parameters: {total_params:,}\")"
   ]
  },
  {
   "cell_type": "markdown",
   "id": "fece40ff-1a12-4463-a76f-b18e8efcdc1a",
   "metadata": {},
   "source": [
    "# Test a Single Move\n",
    "### Let's test the AlphaZero agent by getting a single move suggestion."
   ]
  },
  {
   "cell_type": "code",
   "execution_count": 14,
   "id": "76e0b854-b51a-47b8-b0ff-ca7bde4af3d9",
   "metadata": {},
   "outputs": [
    {
     "name": "stdout",
     "output_type": "stream",
     "text": [
      "AlphaZero is thinking...\n",
      "AlphaZero suggests: c4-c5\n"
     ]
    }
   ],
   "source": [
    "# Initialize a new board\n",
    "import importlib\n",
    "import mcts\n",
    "importlib.reload(mcts)\n",
    "from mcts import MCTSNode\n",
    "\n",
    "board = init_board()\n",
    "state = board_to_state(board)\n",
    "\n",
    "# Get a move from AlphaZero\n",
    "print(\"AlphaZero is thinking...\")\n",
    "move = alpha_zero.select_move(state)\n",
    "uci = move_to_uci(move)\n",
    "print(f\"AlphaZero suggests: {uci}\")"
   ]
  },
  {
   "cell_type": "code",
   "execution_count": 18,
   "id": "5ffd7001-6488-4a08-be47-6a10a2c92133",
   "metadata": {},
   "outputs": [],
   "source": [
    "# As you can see here our pre-trained model suggests the moves c4-c5"
   ]
  },
  {
   "cell_type": "code",
   "execution_count": 20,
   "id": "40c6cf0c-c0e5-482b-9dc7-0cad91ae47a3",
   "metadata": {},
   "outputs": [],
   "source": [
    "# The training is also done in Google Collab with the provided functions"
   ]
  },
  {
   "cell_type": "code",
   "execution_count": null,
   "id": "c21d33b8-c12d-4b1e-a9a3-a9a76c3bd066",
   "metadata": {},
   "outputs": [],
   "source": []
  }
 ],
 "metadata": {
  "kernelspec": {
   "display_name": "Python 3 (ipykernel)",
   "language": "python",
   "name": "python3"
  },
  "language_info": {
   "codemirror_mode": {
    "name": "ipython",
    "version": 3
   },
   "file_extension": ".py",
   "mimetype": "text/x-python",
   "name": "python",
   "nbconvert_exporter": "python",
   "pygments_lexer": "ipython3",
   "version": "3.12.3"
  }
 },
 "nbformat": 4,
 "nbformat_minor": 5
}
